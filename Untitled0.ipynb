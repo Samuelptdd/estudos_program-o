{
  "nbformat": 4,
  "nbformat_minor": 0,
  "metadata": {
    "colab": {
      "provenance": [],
      "authorship_tag": "ABX9TyN5ag/N6705dYx4IvF+xn/u",
      "include_colab_link": true
    },
    "kernelspec": {
      "name": "python3",
      "display_name": "Python 3"
    },
    "language_info": {
      "name": "python"
    }
  },
  "cells": [
    {
      "cell_type": "markdown",
      "metadata": {
        "id": "view-in-github",
        "colab_type": "text"
      },
      "source": [
        "<a href=\"https://colab.research.google.com/github/Samuelptdd/estudos_program-o/blob/main/Untitled0.ipynb\" target=\"_parent\"><img src=\"https://colab.research.google.com/assets/colab-badge.svg\" alt=\"Open In Colab\"/></a>"
      ]
    },
    {
      "cell_type": "code",
      "execution_count": 5,
      "metadata": {
        "colab": {
          "base_uri": "https://localhost:8080/"
        },
        "id": "yIYxasbW8Ebr",
        "outputId": "2d662996-03dd-47cb-c96d-13cb529f6742"
      },
      "outputs": [
        {
          "output_type": "stream",
          "name": "stdout",
          "text": [
            "digite a idade do atleta!13\n",
            "infantil\n"
          ]
        }
      ],
      "source": [
        "idade = int(input(\"digite a idade do atleta!\"))\n",
        "if(idade < 14):\n",
        "  print('infantil')\n",
        "elif(idade < 18):\n",
        "  print('juvenil')\n",
        "else:\n",
        "  print('sênior')"
      ]
    }
  ]
}