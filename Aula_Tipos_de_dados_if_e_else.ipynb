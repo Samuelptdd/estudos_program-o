{
  "nbformat": 4,
  "nbformat_minor": 0,
  "metadata": {
    "colab": {
      "provenance": [],
      "authorship_tag": "ABX9TyOCbGpol8vftvtNdVQnlApA",
      "include_colab_link": true
    },
    "kernelspec": {
      "name": "python3",
      "display_name": "Python 3"
    },
    "language_info": {
      "name": "python"
    }
  },
  "cells": [
    {
      "cell_type": "markdown",
      "metadata": {
        "id": "view-in-github",
        "colab_type": "text"
      },
      "source": [
        "<a href=\"https://colab.research.google.com/github/Samuelptdd/estudos_program-o/blob/main/Aula_Tipos_de_dados_if_e_else.ipynb\" target=\"_parent\"><img src=\"https://colab.research.google.com/assets/colab-badge.svg\" alt=\"Open In Colab\"/></a>"
      ]
    },
    {
      "cell_type": "code",
      "execution_count": 1,
      "metadata": {
        "colab": {
          "base_uri": "https://localhost:8080/"
        },
        "id": "eMSBc_WABrsV",
        "outputId": "d241bc0f-c407-4164-8e9f-f724a3d5c414"
      },
      "outputs": [
        {
          "output_type": "stream",
          "name": "stdout",
          "text": [
            "meu primeiro notebook\n"
          ]
        }
      ],
      "source": [
        "print('meu primeiro notebook')\n"
      ]
    },
    {
      "cell_type": "code",
      "source": [
        "nome = 'Samuel Paiva'\n",
        "print(nome)"
      ],
      "metadata": {
        "colab": {
          "base_uri": "https://localhost:8080/"
        },
        "id": "r4VSi6UoCZEd",
        "outputId": "cbf8175d-c955-4474-a396-af6fae0b54b8"
      },
      "execution_count": 2,
      "outputs": [
        {
          "output_type": "stream",
          "name": "stdout",
          "text": [
            "Samuel Paiva\n"
          ]
        }
      ]
    },
    {
      "cell_type": "code",
      "source": [
        "#Descobrir Tipo Variável\n",
        "type(nome)"
      ],
      "metadata": {
        "colab": {
          "base_uri": "https://localhost:8080/"
        },
        "id": "ZVd62SO6Clay",
        "outputId": "218fdb14-18e6-4a06-f38b-01570fd98b5b"
      },
      "execution_count": 3,
      "outputs": [
        {
          "output_type": "execute_result",
          "data": {
            "text/plain": [
              "str"
            ]
          },
          "metadata": {},
          "execution_count": 3
        }
      ]
    },
    {
      "cell_type": "code",
      "source": [
        "a = 100\n",
        "b = 25.6\n",
        "c = a > b\n",
        "d = 'chinpanze'\n"
      ],
      "metadata": {
        "id": "EHH_qfM1EKbU"
      },
      "execution_count": 4,
      "outputs": []
    },
    {
      "cell_type": "code",
      "source": [
        "type(a)"
      ],
      "metadata": {
        "colab": {
          "base_uri": "https://localhost:8080/"
        },
        "id": "OqJV3_FoEeK7",
        "outputId": "79d3520a-f41f-43e0-d3c7-04195719ffcd"
      },
      "execution_count": 6,
      "outputs": [
        {
          "output_type": "execute_result",
          "data": {
            "text/plain": [
              "int"
            ]
          },
          "metadata": {},
          "execution_count": 6
        }
      ]
    },
    {
      "cell_type": "code",
      "source": [
        "type(b)"
      ],
      "metadata": {
        "colab": {
          "base_uri": "https://localhost:8080/"
        },
        "id": "7QOVaFVWE2ES",
        "outputId": "6b30fa4d-19f9-4f6d-e401-ed9ba21722d2"
      },
      "execution_count": 7,
      "outputs": [
        {
          "output_type": "execute_result",
          "data": {
            "text/plain": [
              "float"
            ]
          },
          "metadata": {},
          "execution_count": 7
        }
      ]
    },
    {
      "cell_type": "code",
      "source": [
        "type(c)"
      ],
      "metadata": {
        "colab": {
          "base_uri": "https://localhost:8080/"
        },
        "id": "zUE5KAR5E5lq",
        "outputId": "da2261f1-c061-43c7-a04b-2d1e9606e300"
      },
      "execution_count": 8,
      "outputs": [
        {
          "output_type": "execute_result",
          "data": {
            "text/plain": [
              "bool"
            ]
          },
          "metadata": {},
          "execution_count": 8
        }
      ]
    },
    {
      "cell_type": "code",
      "source": [
        "type(d)"
      ],
      "metadata": {
        "colab": {
          "base_uri": "https://localhost:8080/"
        },
        "id": "qDzO0eKEE8pa",
        "outputId": "d2330209-cf34-416f-9594-babcb23b2876"
      },
      "execution_count": 10,
      "outputs": [
        {
          "output_type": "execute_result",
          "data": {
            "text/plain": [
              "str"
            ]
          },
          "metadata": {},
          "execution_count": 10
        }
      ]
    },
    {
      "cell_type": "code",
      "source": [
        "a = 100< 200\n",
        "b = 85 == 6 \n",
        "c = 'pablo' == 'Samuel'\n",
        "d = 25 == '25'\n",
        "e = 30 == (6*5)\n",
        "f = 'flamengo' != 'vasco'"
      ],
      "metadata": {
        "id": "j7vK3VObLE6o"
      },
      "execution_count": 17,
      "outputs": []
    },
    {
      "cell_type": "code",
      "source": [
        "print(a)\n",
        "print(b)\n",
        "print(c)\n",
        "print(d)\n",
        "print(e)\n",
        "print(f)"
      ],
      "metadata": {
        "colab": {
          "base_uri": "https://localhost:8080/"
        },
        "id": "9FKWscPnLVqP",
        "outputId": "b1728b59-001c-4457-f929-ac256f53ccdb"
      },
      "execution_count": 18,
      "outputs": [
        {
          "output_type": "stream",
          "name": "stdout",
          "text": [
            "True\n",
            "False\n",
            "False\n",
            "False\n",
            "True\n",
            "True\n"
          ]
        }
      ]
    },
    {
      "cell_type": "code",
      "source": [
        "notaAprovação = 7.0\n",
        "notaWalison = 8.8\n",
        "print(notaAprovação < notaWalison)"
      ],
      "metadata": {
        "colab": {
          "base_uri": "https://localhost:8080/"
        },
        "id": "O3JUK2wTMr5l",
        "outputId": "9eb911ad-48ed-41db-9100-2547833ff3a6"
      },
      "execution_count": 37,
      "outputs": [
        {
          "output_type": "stream",
          "name": "stdout",
          "text": [
            "True\n"
          ]
        }
      ]
    },
    {
      "cell_type": "code",
      "source": [
        "if (notaWalison >= notaAprovação):\n",
        "  print('aprovado')"
      ],
      "metadata": {
        "colab": {
          "base_uri": "https://localhost:8080/"
        },
        "id": "m4YHdD0QNGnJ",
        "outputId": "d54b63b5-e4cb-42e7-d3f9-0771eed59220"
      },
      "execution_count": 20,
      "outputs": [
        {
          "output_type": "stream",
          "name": "stdout",
          "text": [
            "aprovado\n"
          ]
        }
      ]
    },
    {
      "cell_type": "code",
      "source": [
        "if (notaWalison >= notaAprovação):\n",
        "  print('aprovado')\n",
        "else:\n",
        "   print('reprovado') "
      ],
      "metadata": {
        "colab": {
          "base_uri": "https://localhost:8080/"
        },
        "id": "qhJ5EYumNu1l",
        "outputId": "fd806649-fd2d-4301-ac2a-431d69c05fcd"
      },
      "execution_count": 25,
      "outputs": [
        {
          "output_type": "stream",
          "name": "stdout",
          "text": [
            "reprovado\n"
          ]
        }
      ]
    },
    {
      "cell_type": "code",
      "source": [
        "if(notaWalison >= notaAprovação):\n",
        "  print('aprovado')\n",
        "if(notaWalison >= 4.0 and notaWalison < 7.0):\n",
        "  print('recuperação')\n",
        "if(notaWalison < 4.0):\n",
        "  print('reporvado')\n"
      ],
      "metadata": {
        "colab": {
          "base_uri": "https://localhost:8080/"
        },
        "id": "5wDJqVynOvSy",
        "outputId": "7042b963-3f7b-4a21-a508-1bf037f7851d"
      },
      "execution_count": 41,
      "outputs": [
        {
          "output_type": "stream",
          "name": "stdout",
          "text": [
            "aprovado\n"
          ]
        }
      ]
    },
    {
      "cell_type": "code",
      "source": [
        "if(notaWalison < 4):\n",
        "  print('reprovado')\n",
        "elif(notaWalison <7):\n",
        "  print('recuperação')\n",
        "else:\n",
        "  print('aprovado')"
      ],
      "metadata": {
        "colab": {
          "base_uri": "https://localhost:8080/"
        },
        "id": "tPojwZ7wT5iW",
        "outputId": "9dcca2d9-05e5-4c9a-cbd4-fec9fe55ba25"
      },
      "execution_count": 43,
      "outputs": [
        {
          "output_type": "stream",
          "name": "stdout",
          "text": [
            "aprovado\n"
          ]
        }
      ]
    },
    {
      "cell_type": "code",
      "source": [],
      "metadata": {
        "id": "P5EE42hZNtqu"
      },
      "execution_count": 43,
      "outputs": []
    },
    {
      "cell_type": "markdown",
      "source": [
        "Imput de dados no python"
      ],
      "metadata": {
        "id": "UiOM6LGrUmiL"
      }
    },
    {
      "cell_type": "code",
      "source": [
        "nota1 = float(input('digite a nota pae !'))\n",
        "nota2 = float(input('digite a segunda nota!'))\n",
        "nota3 = float(input('digite a terceira nota mano!'))\n",
        "media = (nota1 + nota2 + nota3)/3\n",
        "print(media)"
      ],
      "metadata": {
        "colab": {
          "base_uri": "https://localhost:8080/"
        },
        "id": "RpcVV7pAUrh8",
        "outputId": "f69223dc-ccc8-424e-8e30-b4cc5e13cc84"
      },
      "execution_count": 52,
      "outputs": [
        {
          "output_type": "stream",
          "name": "stdout",
          "text": [
            "digite a nota pae !4\n",
            "digite a segunda nota!6\n",
            "digite a terceira nota mano!6\n",
            "5.333333333333333\n"
          ]
        }
      ]
    },
    {
      "cell_type": "code",
      "source": [
        "if(media < 4):\n",
        "  print('reprovado')\n",
        "elif(media <7):\n",
        "  print('recuperação')\n",
        "else:\n",
        "  print('aprovado')"
      ],
      "metadata": {
        "colab": {
          "base_uri": "https://localhost:8080/"
        },
        "id": "I0K7WDIxXImg",
        "outputId": "3b900496-539d-4733-e845-1050d237d28d"
      },
      "execution_count": 53,
      "outputs": [
        {
          "output_type": "stream",
          "name": "stdout",
          "text": [
            "recuperação\n"
          ]
        }
      ]
    }
  ]
}